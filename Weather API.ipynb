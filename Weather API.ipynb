{
 "cells": [
  {
   "cell_type": "markdown",
   "id": "85e4b273",
   "metadata": {},
   "source": [
    "## 1. What is the URL to the documentation?\n",
    "[https://www.weatherapi.com/docs/](https://www.weatherapi.com/docs/)"
   ]
  },
  {
   "cell_type": "code",
   "execution_count": 41,
   "id": "2aeb1f91",
   "metadata": {},
   "outputs": [
    {
     "data": {
      "text/plain": [
       "True"
      ]
     },
     "execution_count": 41,
     "metadata": {},
     "output_type": "execute_result"
    }
   ],
   "source": [
    "import requests\n",
    "import os\n",
    "from dotenv import load_dotenv\n",
    "load_dotenv()"
   ]
  },
  {
   "cell_type": "code",
   "execution_count": 42,
   "id": "ce665a1d",
   "metadata": {},
   "outputs": [],
   "source": [
    "api_key = os.getenv('PROJECT_API_KEY')"
   ]
  },
  {
   "cell_type": "markdown",
   "id": "0aa86bee",
   "metadata": {},
   "source": [
    "## 2. Make a request for the current weather where you are born, or somewhere you've lived."
   ]
  },
  {
   "cell_type": "code",
   "execution_count": 3,
   "id": "9be81416",
   "metadata": {},
   "outputs": [],
   "source": [
    "response = requests.get(\"https://api.weatherapi.com/v1/current.json?q=60525&key=\"+api_key)\n",
    "data = response.json()"
   ]
  },
  {
   "cell_type": "code",
   "execution_count": 4,
   "id": "ac519b66",
   "metadata": {},
   "outputs": [
    {
     "data": {
      "text/plain": [
       "{'location': {'name': 'La Grange',\n",
       "  'region': 'Illinois',\n",
       "  'country': 'USA',\n",
       "  'lat': 41.78,\n",
       "  'lon': -87.87,\n",
       "  'tz_id': 'America/Chicago',\n",
       "  'localtime_epoch': 1700014100,\n",
       "  'localtime': '2023-11-14 20:08'},\n",
       " 'current': {'last_updated_epoch': 1700013600,\n",
       "  'last_updated': '2023-11-14 20:00',\n",
       "  'temp_c': 12.8,\n",
       "  'temp_f': 55.0,\n",
       "  'is_day': 0,\n",
       "  'condition': {'text': 'Partly cloudy',\n",
       "   'icon': '//cdn.weatherapi.com/weather/64x64/night/116.png',\n",
       "   'code': 1003},\n",
       "  'wind_mph': 12.5,\n",
       "  'wind_kph': 20.2,\n",
       "  'wind_degree': 160,\n",
       "  'wind_dir': 'SSE',\n",
       "  'pressure_mb': 1023.0,\n",
       "  'pressure_in': 30.22,\n",
       "  'precip_mm': 0.0,\n",
       "  'precip_in': 0.0,\n",
       "  'humidity': 32,\n",
       "  'cloud': 25,\n",
       "  'feelslike_c': 11.6,\n",
       "  'feelslike_f': 52.9,\n",
       "  'vis_km': 16.0,\n",
       "  'vis_miles': 9.0,\n",
       "  'uv': 1.0,\n",
       "  'gust_mph': 15.6,\n",
       "  'gust_kph': 25.1}}"
      ]
     },
     "execution_count": 4,
     "metadata": {},
     "output_type": "execute_result"
    }
   ],
   "source": [
    "data"
   ]
  },
  {
   "cell_type": "markdown",
   "id": "21f9f061",
   "metadata": {},
   "source": [
    "## 3. Print out the country this location is in."
   ]
  },
  {
   "cell_type": "code",
   "execution_count": 6,
   "id": "dd17b8eb",
   "metadata": {},
   "outputs": [
    {
     "name": "stdout",
     "output_type": "stream",
     "text": [
      "USA\n"
     ]
    }
   ],
   "source": [
    "print(data['location']['country'])"
   ]
  },
  {
   "cell_type": "markdown",
   "id": "e84571da",
   "metadata": {},
   "source": [
    "## 4. Print out the difference between the current temperature and how warm it feels. Use \"It feels ___ degrees colder\" or \"It feels ___ degrees warmer,\" not negative numbers."
   ]
  },
  {
   "cell_type": "code",
   "execution_count": 15,
   "id": "16b0cbac",
   "metadata": {},
   "outputs": [
    {
     "name": "stdout",
     "output_type": "stream",
     "text": [
      "It is currently 55.0°F but it feels 2.1 degrees colder\n"
     ]
    }
   ],
   "source": [
    "current_temp = data['current']['temp_f']\n",
    "current_feels_like = data['current']['feelslike_f']\n",
    "temp_diff = current_feels_like - current_temp\n",
    "if temp_diff < 0:\n",
    "    print(f'It is currently {current_temp}°F but it feels {abs(temp_diff):.1f} degrees colder')\n",
    "elif temp_diff > 0:\n",
    "    print(f'It is currently {current_temp}°F but it feels {abs(temp_diff):.1f} degrees warmer')\n",
    "else:\n",
    "    print(\"Your feelings are valid.\")"
   ]
  },
  {
   "cell_type": "markdown",
   "id": "e17faad6",
   "metadata": {},
   "source": [
    "## 5. What's the current temperature at Heathrow International Airport? Use the airport's IATA code to search."
   ]
  },
  {
   "cell_type": "code",
   "execution_count": 16,
   "id": "5e076508",
   "metadata": {},
   "outputs": [],
   "source": [
    "response = requests.get(\"https://api.weatherapi.com/v1/current.json?q=LHR&key=\"+api_key)\n",
    "data = response.json()"
   ]
  },
  {
   "cell_type": "code",
   "execution_count": 18,
   "id": "97725ceb",
   "metadata": {},
   "outputs": [
    {
     "data": {
      "text/plain": [
       "50.0"
      ]
     },
     "execution_count": 18,
     "metadata": {},
     "output_type": "execute_result"
    }
   ],
   "source": [
    "heathrow_current = data['current']['temp_f']\n",
    "heathrow_current"
   ]
  },
  {
   "cell_type": "markdown",
   "id": "57b38e07",
   "metadata": {},
   "source": [
    "## 6. What URL would I use to request a 3-day forecast at Heathrow?"
   ]
  },
  {
   "cell_type": "code",
   "execution_count": 19,
   "id": "1d5bd8e8",
   "metadata": {},
   "outputs": [],
   "source": [
    "response = requests.get(\"https://api.weatherapi.com/v1/forecast.json?q=LHR&days=3&key=\"+api_key)\n",
    "data = response.json()"
   ]
  },
  {
   "cell_type": "markdown",
   "id": "56e1a1c6",
   "metadata": {},
   "source": [
    "## 7. Print the date of each of the 3 days you're getting a forecast for."
   ]
  },
  {
   "cell_type": "code",
   "execution_count": 26,
   "id": "ce1de092",
   "metadata": {},
   "outputs": [],
   "source": [
    "forecast_days = data['forecast']['forecastday']"
   ]
  },
  {
   "cell_type": "code",
   "execution_count": 29,
   "id": "85e917a1",
   "metadata": {},
   "outputs": [
    {
     "name": "stdout",
     "output_type": "stream",
     "text": [
      "2023-11-15\n",
      "2023-11-16\n",
      "2023-11-17\n"
     ]
    }
   ],
   "source": [
    "for day in forecast_days:\n",
    "    print(day['date'])"
   ]
  },
  {
   "cell_type": "markdown",
   "id": "ca7e7245",
   "metadata": {},
   "source": [
    "## 8. Print the maximum temperature of each of the days."
   ]
  },
  {
   "cell_type": "code",
   "execution_count": 34,
   "id": "8a047367",
   "metadata": {},
   "outputs": [
    {
     "name": "stdout",
     "output_type": "stream",
     "text": [
      "2023-11-15 | Max: 51.5 °F\n",
      "2023-11-16 | Max: 52.5 °F\n",
      "2023-11-17 | Max: 47.2 °F\n"
     ]
    }
   ],
   "source": [
    "for day in forecast_days:\n",
    "    print(day['date'],'|', 'Max:',day['day']['maxtemp_f'], '°F')\n"
   ]
  },
  {
   "cell_type": "markdown",
   "id": "e24b63f3",
   "metadata": {},
   "source": [
    "## 9. Print only the day with the highest maximum temperature."
   ]
  },
  {
   "cell_type": "code",
   "execution_count": 40,
   "id": "46a2282b",
   "metadata": {},
   "outputs": [
    {
     "name": "stdout",
     "output_type": "stream",
     "text": [
      "2023-11-16\n"
     ]
    }
   ],
   "source": [
    "days_by_max_temp = sorted(forecast_days, key = lambda x: x['day']['maxtemp_f'])\n",
    "print(days_by_max_temp[-1]['date'])"
   ]
  }
 ],
 "metadata": {
  "kernelspec": {
   "display_name": "Python 3 (ipykernel)",
   "language": "python",
   "name": "python3"
  },
  "language_info": {
   "codemirror_mode": {
    "name": "ipython",
    "version": 3
   },
   "file_extension": ".py",
   "mimetype": "text/x-python",
   "name": "python",
   "nbconvert_exporter": "python",
   "pygments_lexer": "ipython3",
   "version": "3.11.5"
  }
 },
 "nbformat": 4,
 "nbformat_minor": 5
}
